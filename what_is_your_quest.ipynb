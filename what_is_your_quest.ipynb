{
  "cells": [
    {
      "metadata": {
        "trusted": true
      },
      "cell_type": "code",
      "source": "#!/usr/bin/env python3\n# -*- coding: utf-8 -*-\n\"\"\"\nCreated on Thu Aug 23 17:52:46 2018\n\n@author: chase.kusterer\n\"\"\"\n\n\"\"\"\n    DocString:\n    \n    A) Introduction:\n    This game is based on the movie Monty Python and the Holy Grail\n    (1975). It consists of three stages, and also has defined functions\n    for start, win, and lose. This game requires honesty, and having a\n    small amount of knowledge from the movie will be helpful.\n    \n    Round 1: Decide whether or not to approach the bridge.\n    Round 2: Cross the Bridge of Death\n    Round 3: Defeat the Black Knight\n    \n    B) Known Bugs and/or Errors:\n    None.\n    \n\"\"\"\n\nfrom sys import exit\nimport random\n\ndef start():\n    print(\"\"\"\n         As you start on your journey, you see a bridge in the\n         distance. It stretches over a furious volcano. You need to\n         cross it in order to continue your quest for the Holy Grail.\n         \"\"\")\n    input(\"<Press enter to continue>\\n\")\n    starting_path()\n\ndef starting_path():\n    print(\"\"\"\n    As the leader of the quest, what would you like to do?\n    1) approach the bridge.\n    2) rest here an decide later.\n    3) run away!\n    \"\"\")\n    \n    choice = input(\">  \\n\")\n\n    if \"1\" in choice or \"approach\" in choice or \"bridge\" in choice:\n        print(\"\\nYou're off to the bridge!\\n\")\n        input(\"<Press enter to continue>\\n\")\n        bridge_area()\n    \n    elif \"2\" in choice or \"rest\" in choice or \"later\" in choice:\n        print(\"\"\"\\nNow that you're rested, what would you like to do?.\"\"\")\n        input(\"<Press enter to continue>\\n\")\n        starting_path()\n    \n    elif \"3\" in choice or \"run\" in choice:\n        print(\"\\nWell I guess the quest is over. Good-bye!\")\n        exit(0)\n    \n    else:\n        print(\"Invalid command. Please try again.\")\n        input(\"<Press enter to continue>\\n\")\n        starting_path()\n\n\ndef bridge_area():\n    print(\"\"\"\nAs you're about to start crossing the bridge, a wizard cuts\nin front of you and shouts:\n              \n              \"STOP. Who would cross the Bridge of Death must answer me\n              these questions three, ere the other side he see.\" \n        \nIn this, you must truthfully answer three questions.\n          \"\"\")\n    \n    question_list = ['What... is your name?',\n                     'What... is your quest?',\n                     'What... is your favorite color?',\n                     'What... is the capital of Assyria?',\n                     'What... is the air-speed velocity of an unladen swallow?']\n    questions = 3\n    \n    while questions > 0:\n        question = random.choice(question_list)\n        input(\"<Press enter for your question>\\n\")\n        print(question)\n        print(\" \")\n        \n        if question == question_list[0]:\n            print(\"You can input anything and you're ok.\")\n            name = input(\"Your name: \\n\")\n            print(f\"WIZARD: Nice to meet you {name}!\")\n            questions -=1\n        \n        elif question == question_list[1]:\n            print(\"1) I am on a quest for the Holy Grail\")\n            print(\"2) I am NOT on a quest for the Holy Grail.\")\n            print(\"3) I forgot.\")\n            \n            quest = input(\"> \\n\")\n            \n            if quest == '1':\n                print(\"Thanks for letting me know. It's kind of lonely guarding this bridge all the time.\\n\")\n                questions -=1\n            \n            else: \n                print(\"You fly high into the air and land in the volcano.\")\n                fail()\n\n        elif question == question_list[2]:\n            print(\"You can choose any primary color.\\n\")\n            color = input(\"> \\n\")\n            color = color.lower()\n            \n            if 'red' in color or 'blue' in color or 'yellow' in color:\n                print(\"WIZARD: I like that color too!\\n\")\n                questions -=1\n            \n            else:\n                print(\"WIZARD: What? That's not a primary color!\")\n                print(\"You fly high into the air and land in the volcano.\\n\")\n                fail()\n        \n        elif question == question_list[3]:\n            print(\"1) Keep silent until the wizard gets bored.\")\n            print(\"2) Try to guess.\\n\")\n        \n            guess = input(\"> \\n\")\n        \n            if '1' in guess or 'silent' in guess or 'bored' in guess:\n                print(\"WIZARD: Ok, ok, I will give you a freebie.\\n\")\n                questions -= 1\n            \n            elif '2' in guess or 'try' in guess or 'guess' in guess: \n                 input(\"Your guess: \\n\")\n                 print(\"WIZARD: Ha! I made that place up!\")\n                 print(\"You fly high into the air and land in the volcano.\")\n                 fail()\n            \n        elif question == question_list[4]:\n            print(\"1) 62.3 meters per second\")\n            print(\"2) 63.2 meters per second\")\n            print(\"3) What do you mean? An African or European swallow?\\n\")\n            \n            swallow = input(\"> \\n\")\n            \n            if '1' in swallow or '62.3' in swallow or '2' in swallow or '63.2' in swallow:\n                print(\"You fly high into the air and land in the volcano.\")\n                fail()\n            \n            elif '3' in swallow or 'African' in swallow or 'European' in swallow:\n                print(\"WIZARD: Huh? I... I don't know that.\")\n                print(\"WIZARD: Ahhhhhh.\\n\")\n                print(\"The wizard flies into the volcano and you are free to pass.\")\n                \n                break\n            \n    print(\"You made it across the Bridge of Death!\\n\")\n    input(\"<Press enter to continue>\\n\")\n    black_knight()\n\ndef black_knight():\n    print(\"\"\"\nYou are across the bridge and on your way to the Holy Grail when the\nBlack Knight pops out to challenge you.\n\"\"\")\n    print(\"What do you do?\")\n    print(\"1) Attack with your sword\")\n    print(\"2) Run away!\")\n    \n    knight = input(\"> \\n\")\n    \n    if '1' in knight or 'attack' in knight or 'sword' in knight:\n        print(\"You attack with your sword and cut the Black Knight's arm off.\")\n        print(\"The black night yells: 'Tis but a scratch' and runs away.\\n\")\n        input(\"<Press enter to continue>\\n\")\n        grail()\n    \n    elif '2' in knight or 'run' in knight:\n        print('You end up back at the bridge.')\n        bridge_area()\n\n\ndef grail():\n    print(\"\"\"\nYou have completed your quest for the Holy Grail! Great job!\n          \"\"\")\n    input(\"<Press enter to exit, you champion!>\\n\")\n    exit(0)\n    \ndef fail():\n    print('\\nYou have failed in your quest for the Holy Grail.')\n    input('<Game Over>')\n    exit(0)\n\nstart()\n",
      "execution_count": null,
      "outputs": []
    },
    {
      "metadata": {
        "trusted": true
      },
      "cell_type": "code",
      "source": "",
      "execution_count": null,
      "outputs": []
    }
  ],
  "metadata": {
    "kernelspec": {
      "name": "python36",
      "display_name": "Python 3.6",
      "language": "python"
    },
    "language_info": {
      "mimetype": "text/x-python",
      "nbconvert_exporter": "python",
      "name": "python",
      "pygments_lexer": "ipython3",
      "version": "3.6.6",
      "file_extension": ".py",
      "codemirror_mode": {
        "version": 3,
        "name": "ipython"
      }
    }
  },
  "nbformat": 4,
  "nbformat_minor": 2
}