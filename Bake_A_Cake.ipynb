{
  "cells": [
    {
      "metadata": {
        "collapsed": true
      },
      "cell_type": "markdown",
      "source": "***\n***\n***\n<br><br><br><br><br>\n# Text Adventure Workshop\n<h3>Developed by Mohammad Asad Pervez</h3><br><br>\n<em>Source of theory: <br>\n\nPython for Business Analytics: A Nontechnical Approach for Nontechnical People</em><br> \nWritten by Chase Kusterer - Faculty of Analytics at Hult International Business School <br>\n\n### GitHub\nChase Kusterer:        https://github.com/chase-kusterer <br>\nMohammad Asad Pervez:  https://github.com/asadpervez123<br><br><br><br>\n***\n***\n***\n"
    },
    {
      "metadata": {},
      "cell_type": "markdown",
      "source": "## Part 1: Let's warm up"
    },
    {
      "metadata": {},
      "cell_type": "markdown",
      "source": "Without a doubt, **print()** are one of the most fundamental functions in virtually any programming language. Although it is fundamental, it is something that you absolutely need to master.\n\n### The Fundamentals of print() Statements\nPrint statements are one of the most useful and fundamental operations in Python. We rarely want to print the output of every line of code that we write, and will even encounter several programs that do not print anything. The **print()** command helps us to manage what output gets printed, and what output should be suppressed.<br>\n\n#### What is printing?\nTo clarify, to <em>print</em> simply means to <em>display</em>. When we call the <strong>print()</strong> function, we are telling Python to display something. When we call <strong>print()</strong> in Jupyter Notebook, by default, Python displays its results directly under the cell containing the <strong>print()</strong> statement.\n\n#### Basic Functionality\nThere is a lot we can do with **print()** statements. Below is a table that will help that covers some common **print()** statement syntaxes:\n<br><br>\n<div style = \"width:image width px; font-size:80%; text-align:center;\">\n<table align=\"center\">\n<col width=\"100\">\n<col width=\"10\">   \n<col width=\"250\">\n    <tr>\n        <th>Syntax</th>\n        <th>    | </th>\n        <th>Description</th>\n    </tr>\n    <tr>\n        <td>print()</td>\n        <td>    | </td>\n        <td> outputs an argument to the console</td>\n    </tr>\n    <tr>\n    <tr>\n        <td>' '</td>\n        <td>    | </td>\n        <td> wrapper to print strings</td>\n    </tr>\n    <tr>\n        <td>\" \"</td>\n        <td>    | </td>\n        <td> wrapper to print strings</td>\n    </tr>   \n    <tr>\n        <td>\"\"\" \"\"\"</td>\n        <td>    | </td>\n        <td> wrapper to print strings on multiple lines</td>\n    </tr>\n    <tr>\n        <td>f\" {var} \"</td>\n        <td>    | </td>\n        <td> dynamically calls variables/objects into print strings</td>\n    </tr>\n    <tr>\n        <td>f\"\"\" {var} \"\"\"</td>\n        <td>    | </td>\n        <td> dynamically calls variables/objects into print strings on multiple lines</td>\n    </tr>\n    <tr>\n          <em>Table: Common <strong>print()</strong> statement syntax.</em>\n    </tr>\n</table></div>"
    },
    {
      "metadata": {
        "trusted": true
      },
      "cell_type": "code",
      "source": "# Calculating 2 + 3\n\nprint(2 + 3)",
      "execution_count": null,
      "outputs": []
    },
    {
      "metadata": {
        "trusted": true
      },
      "cell_type": "code",
      "source": "# Defining variable\n\na = 2\n\nb = 3\n\nc = a + b\n\n#Printing C\n\nprint(c)",
      "execution_count": null,
      "outputs": []
    },
    {
      "metadata": {
        "trusted": true
      },
      "cell_type": "code",
      "source": "#Excercise: Using variables, calculate the product of 2 and 3 and then divide the result by 6\n\n",
      "execution_count": null,
      "outputs": []
    },
    {
      "metadata": {},
      "cell_type": "markdown",
      "source": "## Part 2: User Inputs and Dynamic Printing\n### As its name implies, the input() function allows us to prompt users to give us input."
    },
    {
      "metadata": {
        "trusted": true
      },
      "cell_type": "code",
      "source": "# Prompting inputs\n\na = input(\"Input the first number: \")\n\nb = input(\"Input the second number: \")\n\nc = a + b\n\n#Dynamic printing\nprint (f\"The sum of {a} and {b} is {c}\")",
      "execution_count": null,
      "outputs": []
    },
    {
      "metadata": {
        "trusted": true
      },
      "cell_type": "code",
      "source": "# Converting the User value to an integer\n\na = input(\"Input the first number: \")\na = ___ (a)\n\nb = input(\"Input the second number: \")\nb = ___ (b)\n\nc = a + b\n\n#Dynamic printing\nprint (f\"The sum of {a} and {b} is {c}\")",
      "execution_count": null,
      "outputs": []
    },
    {
      "metadata": {
        "trusted": true
      },
      "cell_type": "code",
      "source": "#Excercise: Ask for a person's name. Then make fun of their name!\n\n\n\n",
      "execution_count": null,
      "outputs": []
    },
    {
      "metadata": {},
      "cell_type": "markdown",
      "source": "## Part 3: Lists and User Defined Functions"
    },
    {
      "metadata": {},
      "cell_type": "markdown",
      "source": "Our goal with lists is to store more than one item in the same place. You can think of this as declaring one object that holds many things. Conceptually, lists are the simplest of Python's four built-in data structures (lists, tuples, dictionaries, and sets). Declaring a list is very similar to declaring any of the objects. <div align=\"center\"><h3>\n    Lists are a way to better organize our information.\n<a class=\"tocSkip\"></h3></div><br>\n"
    },
    {
      "metadata": {
        "trusted": true
      },
      "cell_type": "code",
      "source": "# Creating a List\n\nx = [1,2,3]\n\ny = [\"a\",\"b\",\"c\"]\n\nz = [1, \"a\", 2, \"b\", 3, \"c\"]\n\nprint (x)\nprint (y)\nprint (z)",
      "execution_count": null,
      "outputs": []
    },
    {
      "metadata": {},
      "cell_type": "markdown",
      "source": "## The Function Framework\nFunctions follow a similar framework to conditional statements and loops in that their first line starts with a designated syntax and ends with a semicolon ( : ). Additionally, anything inside a function's body must be indented. Functions need to be defined before they can be run. In other words, you need to give Python the blueprints of your function before you will be able to use it. You can think of this like working with packages in that they must be imported before their methods become available.\n\n#### Defining a Function\nThe syntax <strong>def</strong> lets Python know that you are defining a function. After this, the function must be given a unique name, followed by a set of parenthesis <em> (   ) </em> and a semicolon.\n<br><br>\n\n~~~\ndef FUNCTION_NAME(ARGUMENTS):\n    FUNCTION BODY\n~~~\n\n<br>\nUser-defined functions can have any nonnegative number of arguments (zero or more). However, mandatory arguments must come before optional arguments, and optional arguments must come before variable arguments."
    },
    {
      "metadata": {
        "trusted": true
      },
      "cell_type": "code",
      "source": "# User Defined Functions with dynamic printing\n\n#Example 1\ndef numbers(a,b):\n    \n    print (f\" The sum of {a} and {b} is:          {a+b}\")\n    print (f\" The difference of {a} and {b} is:  {a-b}\")\n    print (f\" The product of {a} and {b} is:      {a*b}\")\n\n\nnumbers(_,_)\n",
      "execution_count": null,
      "outputs": []
    },
    {
      "metadata": {
        "trusted": true
      },
      "cell_type": "code",
      "source": "#Example 2\n\ndef numbers_2(a,b):\n    \n    x = a+b\n    return x\n\nnumbers_2(_,_)",
      "execution_count": null,
      "outputs": []
    },
    {
      "metadata": {},
      "cell_type": "markdown",
      "source": "#### The Limited World of a Function\nIt is important to understand why <strong>return</strong> statements are required to get something back from a function. To get there, think of your working environment as the entire planet on which all of your code lives. We will call this the <strong>global environment</strong>. Also, think of declaring an object as creating an living being on your planet, and this being is free to interact with other objects in the global environment. If another object is declared with the same name, it will cause conflict and the former object will be overwritten.\n<br><br>\nNow, think of the body of a function as its own island where its inhabitants have been secluded for so many generations that they are completely oblivious to anything that exists elsewhere. This is good because these objects have no way to adversely affect the global environment (i.e. overwriting objects). We will call this island the function's environment. Oftentimes, we need something from the function's environment to interact with the global environment, and as the master of both environments, we have the ability to make this happen. In other words, at times we need something from the island to <strong>return</strong> to the global environment, and the syntax to accomplish this is, not surprisingly, named <strong>return</strong>.\n<br><br>"
    },
    {
      "metadata": {
        "trusted": true
      },
      "cell_type": "code",
      "source": "#Excercise: Define a function that calculates the volume of a sphere if the radius is provided.\n\n\n",
      "execution_count": null,
      "outputs": []
    },
    {
      "metadata": {},
      "cell_type": "markdown",
      "source": "## Part 4: if-else Statements"
    },
    {
      "metadata": {},
      "cell_type": "markdown",
      "source": "<div align=\"center\"><h4><a class=\"tocSkip\"></h4></div>\nWhen Python reads a conditional statement, it makes a decision as to which path to take based on whether or not its condition is true. <strong>This is not AI</strong>. The computer is not thinking; it is simply following pre-written instructions. You'd be incredibly surprised at what some charlatans of the trade will try to market as AI to the ignorant buyer."
    },
    {
      "metadata": {
        "trusted": true
      },
      "cell_type": "code",
      "source": "#A simple if-else statement. Can you predict the output if you enter 1989? What's happening? (Hint: Recall what you learned about User inputs)\n\na = input(\"When was Taylor Swift born? > \")\na = int(a)\n\nb = 1989\n\nif a==b:\n    print(\"You got it!\")\n\nelse:\n    print(\"Nope!\")\n\n",
      "execution_count": null,
      "outputs": []
    },
    {
      "metadata": {
        "trusted": true
      },
      "cell_type": "code",
      "source": "#Excercise: Write an if-else statement that tells a user to guess when Python was invented and how the scripting language got its name.\n\n\n\n",
      "execution_count": null,
      "outputs": []
    },
    {
      "metadata": {},
      "cell_type": "markdown",
      "source": "## Part 5: Let's Bake Our Cake\n\n### Gather your ingredients. A Pound Cake is one of the easiest cake to bake!"
    },
    {
      "metadata": {
        "trusted": true
      },
      "cell_type": "code",
      "source": "#importing time package\nimport time\n\n#Preheating the oven\ndef preheat():\n    \n    input(\"Press enter to preheat the oven > \")\n    \n    print(\"Please wait! Heating the oven..\")\n    \n    time.sleep(1)\n    \n    print(\"Heating...\")\n    \n    time.sleep(1)\n    \n    print(\"Heating...\")\n    \n    time.sleep(1)\n    \n    print(\"Heating...\")\n    \n    time.sleep(1.5)\n    \n    print(\"All Set!\")\n\n\npreheat()\n",
      "execution_count": null,
      "outputs": []
    },
    {
      "metadata": {
        "trusted": true
      },
      "cell_type": "code",
      "source": "#Lists\nimport time\n\ningredients = [\"1 cup of unsalted butter\", \"1 cup of granulated sugar\", \"A Pinch of salt\", \"2 teaspoons of vanilla extract\", \"5 eggs\", \"2 cups of cake flour\"]\n\nyes = ['y','yes','yup', 'yeah']\nno  = ['n', 'no','nope', 'nah']\n\none_cup =  ['1', 'one']\ntwo_cups = ['2', 'two']\n\neggs = ['5', 'five']\nsalt = ['a pinch', 'pinch', 'pinch of salt', 'a pinch of salt']\n\n\n\n# Defining the Do You Know function\ndef do_you_know():\n    \n    a = input(\"Do you know the ingredients? > \").lower()\n    \n    if a in yes:\n        print(\"Perfect! Let's bake.\")\n        time.sleep(1.5)\n    \n    elif a in no:\n        print(f'The Ingredients are: {ingredients}')\n    \n    elif (a not in yes) or (a not in no):\n        print('Incorrect input! Try again')\n        time.sleep(0.5)\n        do_you_know()\n    \n    else:\n        print('Something went wrong!')\n\ndo_you_know()\n\n# Mixing the Ingredients\ndef mix():\n    \n    butter = input(\"How many cups of unsalted butter will you use? > \").lower()\n    sugar = input (\"How many cups of Sugar will you use? > \").lower()\n    salt = input (\"How much salt would you use? > \").lower()\n    vanilla = input(\"How many teaspoons of Vanilla extract will you use? > \").lower()\n    eggs = input (\"How many eggs will you use? > \").lower()\n    flour = input (\"How many cups of flour will you use? > \").lower()\n\n    if (butter in one_cup) and (sugar in one_cup) and (salt in salt) and (vanilla in two_cups) and (flour in two_cups) and (eggs in eggs):\n        print('Mixing...')\n        time.sleep(1.5)\n        print(\"Perfect! Let's get baking.\")\n        time.sleep(1.5)\n\n    elif (butter not in one_cup) or (sugar not in one_cup) or (salt not in salt) or (vanilla not in two_cups) or (flour not in two_cups) or (eggs not in eggs):\n        print('Mixing...')\n        time.sleep(1.5)\n        print('Wrong composition')\n        do_you_know()\n        mix()\n    \n    else:\n        print('Something went wrong!')\n        \n        \n# Running the mix() function\nmix()\n\n\ndef baking():\n    \n    temp_str = input('What is the temperature you would like to bake on (F)? > ')\n    time_str = input('For how many minutes are you going to bake? > ')\n    \n    if ((int(temp_str) == 350) and (int(time_str) == 45)):\n        print(\"Baking...\")\n        time.sleep(0.5)\n        print(\"Baking...\")\n        time.sleep(0.5)\n        print(\"Baking...\")\n        time.sleep(0.5)\n        \n        print(\"\"\"Here is your Cake!\n        \n                  *                                             *\n                                               *\n                    *\n                                  *\n                                                            *\n         *\n                                                  *\n             *\n                           *             *\n                                                     *\n      *                                                               *\n               *\n                               (             )\n                       )      (*)           (*)      (\n              *       (*)      |             |      (*)\n                       |      |~|           |~|      |          *\n                      |~|     | |           | |     |~|\n                      | |     | |           | |     | |\n                     ,| |a@@@@| |@@@@@@@@@@@| |@@@@a| |.\n                .,a@@@| |@@@@@| |@@@@@@@@@@@| |@@@@@| |@@@@a,.\n              ,a@@@@@@| |@@@@@@@@@@@@.@@@@@@@@@@@@@@| |@@@@@@@a,\n             a@@@@@@@@@@@@@@@@@@@@@' . `@@@@@@@@@@@@@@@@@@@@@@@@a\n             ;`@@@@@@@@@@@@@@@@@@'   .   `@@@@@@@@@@@@@@@@@@@@@';\n             ;@@@`@@@@@@@@@@@@@'     .     `@@@@@@@@@@@@@@@@'@@@;\n             ;@@@;,.aaaaaaaaaa       .       aaaaa,,aaaaaaa,;@@@;\n             ;;@;;;;@@@@@@@@;@      @.@      ;@@@;;;@@@@@@;;;;@@;\n             ;;;;;;;@@@@;@@;;@    @@ . @@    ;;@;;;;@@;@@@;;;;;;;\n             ;;;;;;;;@@;;;;;;;  @@   .   @@  ;;;;;;;;;;;@@;;;;@;;\n             ;;;;;;;;;;;;;;;;;@@     .     @@;;;;;;;;;;;;;;;;@@@;\n         ,%%%;;;;;;;;@;;;;;;;;       .       ;;;;;;;;;;;;;;;;@@;;%%%,\n      .%%%%%%;;;;;;;@@;;;;;;;;     ,%%%,     ;;;;;;;;;;;;;;;;;;;;%%%%%%,\n     .%%%%%%%;;;;;;;@@;;;;;;;;   ,%%%%%%%,   ;;;;;;;;;;;;;;;;;;;;%%%%%%%,\n     %%%%%%%%`;;;;;;;;;;;;;;;;  %%%%%%%%%%%  ;;;;;;;;;;;;;;;;;;;'%%%%%%%%\n     %%%%%%%%%%%%`;;;;;;;;;;;;,%%%%%%%%%%%%%,;;;;;;;;;;;;;;;'%%%%%%%%%%%%\n     `%%%%%%%%%%%%%%%%%,,,,,,,%%%%%%%%%%%%%%%,,,,,,,%%%%%%%%%%%%%%%%%%%%'\n       `%%%%%%%%%%%%%%%%%%%%%%%%%%%%%%%%%%%%%%%%%%%%%%%%%%%%%%%%%%%%%%'\n           `%%%%%%%%%%%%%%%%%%%%%%%%%%%%%%%%%%%%%%%%%%%%%%%%%%%%%%'\n                                 `%%%%%%%'\n                                  `%%%%%'\n                                    %%%     \n                                   %%%%%\n                                .,%%%%%%%,.\n                           ,%%%%%%%%%%%%%%%%%%%,\n\n\n                \"\"\")\n    elif ((int(temp_str) > 350) or (int(time_str) > 45)):\n        print(\"Oh no! You burnt it. The ideal time is 45min and temperature is 350F. Let's try baking it again.\")\n        time.sleep(2)\n        baking()\n        \n    elif ((int(temp_str) < 350) or (int(time_str) < 45)):\n        print(\"Oh no! It's undercooked. The ideal time is 45min and temperature is 350F. Let's try baking it again.\")\n        time.sleep(2)\n        baking()\n\n#Running the baking() function\nbaking()\n",
      "execution_count": null,
      "outputs": []
    },
    {
      "metadata": {
        "trusted": true
      },
      "cell_type": "code",
      "source": "#Excercise: Build your own text adventure game and send it to asad@studentpartner.com\n\n\n\n\n",
      "execution_count": null,
      "outputs": []
    }
  ],
  "metadata": {
    "kernelspec": {
      "name": "python36",
      "display_name": "Python 3.6",
      "language": "python"
    },
    "language_info": {
      "mimetype": "text/x-python",
      "nbconvert_exporter": "python",
      "name": "python",
      "pygments_lexer": "ipython3",
      "version": "3.6.6",
      "file_extension": ".py",
      "codemirror_mode": {
        "version": 3,
        "name": "ipython"
      }
    }
  },
  "nbformat": 4,
  "nbformat_minor": 2
}